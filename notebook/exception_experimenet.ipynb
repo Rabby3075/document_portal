{
 "cells": [
  {
   "cell_type": "code",
   "execution_count": 8,
   "id": "1a8bd3fa",
   "metadata": {},
   "outputs": [],
   "source": [
    "import sys\n",
    "import traceback"
   ]
  },
  {
   "cell_type": "code",
   "execution_count": 9,
   "id": "ed134806",
   "metadata": {},
   "outputs": [],
   "source": [
    "class DocumentPortalException(Exception):\n",
    "    \"\"\"Base class for all exceptions in the Document Portal application.\"\"\"\n",
    "    def __init__(self,error_message:str,error_details:sys):\n",
    "        _,_,exc_tb=error_details.exc_info()\n",
    "        self.file_name = exc_tb.tb_frame.f_code.co_filename\n",
    "        self.line_number = exc_tb.tb_lineno\n",
    "        self.error_message = str(error_message)\n",
    "        self.traceback_str = ''.join(\n",
    "            traceback.format_exception(\n",
    "                *error_details.exc_info()\n",
    "                )\n",
    "            )\n",
    "    def __str__(self):\n",
    "        return f\"\"\"\n",
    "        Exception occurred in file: {self.file_name} at line: {self.line_number}\n",
    "        Error message: {self.error_message}\n",
    "\n",
    "        Traceback:{self.traceback_str}\n",
    "        \"\"\"\n",
    "\n"
   ]
  },
  {
   "cell_type": "code",
   "execution_count": 14,
   "id": "e9f36ab2",
   "metadata": {},
   "outputs": [
    {
     "name": "stderr",
     "output_type": "stream",
     "text": [
      "{\"timestamp\": \"2025-08-02T02:27:06.120215Z\", \"level\": \"error\", \"event\": \"DocumentPortalException(ZeroDivisionError('division by zero'), <module 'sys' (built-in)>)\"}\n"
     ]
    },
    {
     "ename": "DocumentPortalException",
     "evalue": "\n        Exception occurred in file: C:\\Users\\rashe\\AppData\\Local\\Temp\\ipykernel_3344\\2099509128.py at line: 3\n        Error message: division by zero\n\n        Traceback:Traceback (most recent call last):\n  File \"C:\\Users\\rashe\\AppData\\Local\\Temp\\ipykernel_3344\\2099509128.py\", line 3, in <module>\n    a = 1 / 0  # This will raise a ZeroDivisionError\nZeroDivisionError: division by zero\n\n        ",
     "output_type": "error",
     "traceback": [
      "\u001b[1;31m---------------------------------------------------------------------------\u001b[0m",
      "\u001b[1;31mZeroDivisionError\u001b[0m                         Traceback (most recent call last)",
      "Cell \u001b[1;32mIn[14], line 3\u001b[0m\n\u001b[0;32m      2\u001b[0m \u001b[38;5;28;01mtry\u001b[39;00m:\n\u001b[1;32m----> 3\u001b[0m     a \u001b[38;5;241m=\u001b[39m \u001b[38;5;241;43m1\u001b[39;49m\u001b[43m \u001b[49m\u001b[38;5;241;43m/\u001b[39;49m\u001b[43m \u001b[49m\u001b[38;5;241;43m0\u001b[39;49m  \u001b[38;5;66;03m# This will raise a ZeroDivisionError\u001b[39;00m\n\u001b[0;32m      4\u001b[0m     \u001b[38;5;28mprint\u001b[39m(a)\n",
      "\u001b[1;31mZeroDivisionError\u001b[0m: division by zero",
      "\nDuring handling of the above exception, another exception occurred:\n",
      "\u001b[1;31mDocumentPortalException\u001b[0m                   Traceback (most recent call last)",
      "Cell \u001b[1;32mIn[14], line 8\u001b[0m\n\u001b[0;32m      6\u001b[0m app_exc \u001b[38;5;241m=\u001b[39m DocumentPortalException(e, sys)\n\u001b[0;32m      7\u001b[0m logger\u001b[38;5;241m.\u001b[39merror(app_exc)\n\u001b[1;32m----> 8\u001b[0m \u001b[38;5;28;01mraise\u001b[39;00m app_exc\n",
      "\u001b[1;31mDocumentPortalException\u001b[0m: \n        Exception occurred in file: C:\\Users\\rashe\\AppData\\Local\\Temp\\ipykernel_3344\\2099509128.py at line: 3\n        Error message: division by zero\n\n        Traceback:Traceback (most recent call last):\n  File \"C:\\Users\\rashe\\AppData\\Local\\Temp\\ipykernel_3344\\2099509128.py\", line 3, in <module>\n    a = 1 / 0  # This will raise a ZeroDivisionError\nZeroDivisionError: division by zero\n\n        "
     ]
    }
   ],
   "source": [
    "if __name__ == \"__main__\":\n",
    "    try:\n",
    "        a = 1 / 0  # This will raise a ZeroDivisionError\n",
    "        print(a)\n",
    "    except Exception as e:\n",
    "        app_exc = DocumentPortalException(e, sys)\n",
    "        logger.error(app_exc)\n",
    "        raise app_exc\n",
    "        "
   ]
  },
  {
   "cell_type": "code",
   "execution_count": 7,
   "id": "a9c6f0f8",
   "metadata": {},
   "outputs": [],
   "source": [
    "from logger.custom_logger import CustomLogger"
   ]
  },
  {
   "cell_type": "code",
   "execution_count": 13,
   "id": "100c354e",
   "metadata": {},
   "outputs": [],
   "source": [
    "logger = CustomLogger().get_logger(\"Exceptionm Experiment\")"
   ]
  }
 ],
 "metadata": {
  "kernelspec": {
   "display_name": "Python 3",
   "language": "python",
   "name": "python3"
  },
  "language_info": {
   "codemirror_mode": {
    "name": "ipython",
    "version": 3
   },
   "file_extension": ".py",
   "mimetype": "text/x-python",
   "name": "python",
   "nbconvert_exporter": "python",
   "pygments_lexer": "ipython3",
   "version": "3.10.18"
  }
 },
 "nbformat": 4,
 "nbformat_minor": 5
}
