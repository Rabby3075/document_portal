{
 "cells": [
  {
   "cell_type": "code",
   "execution_count": 7,
   "id": "8ea00bc1",
   "metadata": {},
   "outputs": [],
   "source": [
    "import logging\n",
    "import os\n",
    "from datetime import datetime"
   ]
  },
  {
   "cell_type": "code",
   "execution_count": 8,
   "id": "cf5cf28c",
   "metadata": {},
   "outputs": [],
   "source": [
    "log_dir = os.path.join(os.getcwd(), 'logs') #here we ensure the logs directory exists"
   ]
  },
  {
   "cell_type": "code",
   "execution_count": 9,
   "id": "775b9def",
   "metadata": {},
   "outputs": [],
   "source": [
    "os.makedirs(log_dir, exist_ok=True) #here exists_ok=True ensures that the directory is created if it does not exist"
   ]
  },
  {
   "cell_type": "code",
   "execution_count": 10,
   "id": "a1e73402",
   "metadata": {},
   "outputs": [],
   "source": [
    "log_file = f\"{datetime.now().strftime('%Y-%m-%d_%H-%M-%S')}.log\""
   ]
  },
  {
   "cell_type": "code",
   "execution_count": 11,
   "id": "a05ba76d",
   "metadata": {},
   "outputs": [
    {
     "data": {
      "text/plain": [
       "'2025-08-02_12-52-11.log'"
      ]
     },
     "execution_count": 11,
     "metadata": {},
     "output_type": "execute_result"
    }
   ],
   "source": [
    "log_file"
   ]
  },
  {
   "cell_type": "markdown",
   "id": "a1abd005",
   "metadata": {},
   "source": [
    "today\n",
    "with today's date log file will be created\n",
    "\n",
    "tomorrow\n",
    "with tomorrow's date log file will be created"
   ]
  },
  {
   "cell_type": "code",
   "execution_count": 12,
   "id": "999c2d15",
   "metadata": {},
   "outputs": [],
   "source": [
    "log_file_path = os.path.join(log_dir,log_file)"
   ]
  },
  {
   "cell_type": "code",
   "execution_count": 13,
   "id": "024e408b",
   "metadata": {},
   "outputs": [],
   "source": [
    "logging.basicConfig(\n",
    "    filename=log_file_path,\n",
    "    formate=\"[%(asctime)s] %(levelname)s %(name)s (line:%(lineo)d): %(message)s\",\n",
    "    level=logging.INFO\n",
    ")"
   ]
  },
  {
   "cell_type": "code",
   "execution_count": 14,
   "id": "c1248d48",
   "metadata": {},
   "outputs": [],
   "source": [
    "logger = logging.getLogger(\"Document Portal\")"
   ]
  },
  {
   "cell_type": "code",
   "execution_count": 15,
   "id": "36e07d9e",
   "metadata": {},
   "outputs": [],
   "source": [
    "logger.info(\"This is an info message\")"
   ]
  },
  {
   "cell_type": "code",
   "execution_count": 18,
   "id": "c84757ea",
   "metadata": {},
   "outputs": [],
   "source": [
    "import structlog\n",
    "logger = structlog.getLogger()\n"
   ]
  },
  {
   "cell_type": "code",
   "execution_count": 20,
   "id": "50a01412",
   "metadata": {},
   "outputs": [
    {
     "name": "stdout",
     "output_type": "stream",
     "text": [
      "2025-08-02 12:56:18 [info     ] logger testing                \n"
     ]
    }
   ],
   "source": [
    "logger.info(\"logger testing\")"
   ]
  }
 ],
 "metadata": {
  "kernelspec": {
   "display_name": "Python 3",
   "language": "python",
   "name": "python3"
  },
  "language_info": {
   "codemirror_mode": {
    "name": "ipython",
    "version": 3
   },
   "file_extension": ".py",
   "mimetype": "text/x-python",
   "name": "python",
   "nbconvert_exporter": "python",
   "pygments_lexer": "ipython3",
   "version": "3.10.18"
  }
 },
 "nbformat": 4,
 "nbformat_minor": 5
}
